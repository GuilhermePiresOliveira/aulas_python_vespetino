{
 "cells": [
  {
   "cell_type": "markdown",
   "metadata": {},
   "source": [
    "### <b>ATIVIDADE"
   ]
  },
  {
   "cell_type": "code",
   "execution_count": 62,
   "metadata": {},
   "outputs": [
    {
     "name": "stdout",
     "output_type": "stream",
     "text": [
      "-------------------------------------------------- BOLETIM ESCOLAR --------------------------------------------------\n",
      "\n",
      "                                     Aluno: GUI\n",
      "\n",
      "                                     Matéria     Nota\n",
      "\n",
      "                                     Matematica: 9\n",
      "                                     Português:  9 \n",
      "                                     Geográfia:  9 \n",
      "                                     História:   9 \n",
      "                                     Física:     9 \n",
      "                                     A media:    9\n",
      "-------------------------------------------------- SENAI --------------------------------------------------\n"
     ]
    }
   ],
   "source": [
    "nome = input('Nome do aluno: ')\n",
    "\n",
    "matematica = float(input('nota Matemática: '))\n",
    "\n",
    "portugues = float(input('nota Português: '))\n",
    "\n",
    "georgrafia = float(input('nota Geográfia: '))\n",
    "\n",
    "historia = float(input('nota História: '))\n",
    "\n",
    "fisica = float(input('nota Física: '))  \n",
    "\n",
    "medgeral = (matematica + portugues + georgrafia + historia + fisica)/5\n",
    "\n",
    "print(50*'-', 'BOLETIM ESCOLAR', 50*'-')\n",
    "print()\n",
    "print(f'                                     Aluno: {nome}')\n",
    "print()\n",
    "print('                                     Matéria     Nota')\n",
    "print()\n",
    "print(f'                                     Matematica: {matematica:.0f}')\n",
    "print(f'                                     Português:  {portugues:.0f} ')\n",
    "print(f'                                     Geográfia:  {georgrafia:.0f} ')\n",
    "print(f'                                     História:   {historia:.0f} ')\n",
    "print(f'                                     Física:     {fisica:.0f} ')\n",
    "\n",
    "print(f'                                     A media:    {medgeral:.0f}')\n",
    "print(50*'-', 'SENAI' , 50*'-')"
   ]
  },
  {
   "cell_type": "code",
   "execution_count": 29,
   "metadata": {},
   "outputs": [
    {
     "data": {
      "text/plain": [
       "9.0"
      ]
     },
     "execution_count": 29,
     "metadata": {},
     "output_type": "execute_result"
    }
   ],
   "source": [
    "9+9+9+9+9\n",
    "45/5\n",
    "\n"
   ]
  }
 ],
 "metadata": {
  "kernelspec": {
   "display_name": ".venv",
   "language": "python",
   "name": "python3"
  },
  "language_info": {
   "codemirror_mode": {
    "name": "ipython",
    "version": 3
   },
   "file_extension": ".py",
   "mimetype": "text/x-python",
   "name": "python",
   "nbconvert_exporter": "python",
   "pygments_lexer": "ipython3",
   "version": "3.12.3"
  }
 },
 "nbformat": 4,
 "nbformat_minor": 2
}
